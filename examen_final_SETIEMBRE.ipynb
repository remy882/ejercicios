{
  "nbformat": 4,
  "nbformat_minor": 0,
  "metadata": {
    "colab": {
      "provenance": [],
      "authorship_tag": "ABX9TyP8nwEMSWzmJmDjhUItXdBr",
      "include_colab_link": true
    },
    "kernelspec": {
      "name": "python3",
      "display_name": "Python 3"
    },
    "language_info": {
      "name": "python"
    }
  },
  "cells": [
    {
      "cell_type": "markdown",
      "metadata": {
        "id": "view-in-github",
        "colab_type": "text"
      },
      "source": [
        "<a href=\"https://colab.research.google.com/github/remy882/ejercicios/blob/main/examen_final_SETIEMBRE.ipynb\" target=\"_parent\"><img src=\"https://colab.research.google.com/assets/colab-badge.svg\" alt=\"Open In Colab\"/></a>"
      ]
    },
    {
      "cell_type": "code",
      "execution_count": 36,
      "metadata": {
        "colab": {
          "base_uri": "https://localhost:8080/"
        },
        "id": "bRhiap8QhyCV",
        "outputId": "e3f29ee0-c3b1-4bb9-bee4-f62a593dd1c7"
      },
      "outputs": [
        {
          "output_type": "stream",
          "name": "stdout",
          "text": [
            "arregl en dimension 1:  [ 1  2  3  4  5  6  7  8  9 10 11 12 13 14 15 16 17 18 19 20]\n",
            "\n",
            " Múltiplos de 3: [ 3  6  9 12 15 18]\n"
          ]
        }
      ],
      "source": [
        "import numpy as np\n",
        "\n",
        "# arreglo del 1 al 20\n",
        "arreglo = np.arange(1, 21)\n",
        "\n",
        "print(\"arregl en dimension 1: \",arreglo)\n",
        "\n",
        "\n",
        "\n",
        "#2. Selecciona los múltiplos de 3 de ese arreglo y muéstralos\n",
        "\n",
        "multiplos_3 = arreglo[arreglo % 3 == 0]\n",
        "\n",
        "print(\"\\n Múltiplos de 3:\", multiplos_3)\n"
      ]
    },
    {
      "cell_type": "markdown",
      "source": [
        "\n",
        "\n",
        "3. Genera una matriz aleatoria de tamaño 5x5 con números entre 0 y 1"
      ],
      "metadata": {
        "id": "iNRZccZ8jX_3"
      }
    },
    {
      "cell_type": "code",
      "source": [
        "import numpy as np\n",
        "\n",
        "\n",
        "# 3. Generar matriz aleatoria de 5x5\n",
        "matriz = np.random.rand(5, 5)\n",
        "\n",
        "print(\"Matriz aleatoria 5x5:\")\n",
        "print(matriz)\n",
        "\n",
        "\n",
        "\n",
        "# 4. Calcula la media, la desviación estándar y el valor máximo de esa matriz.\n",
        "media = np.mean(matriz)\n",
        "desviacion = np.std(matriz)\n",
        "maximo = np.max(matriz)\n",
        "\n",
        "print(\"\\n RESULTADOS:\")\n",
        "print(\"Media:\", media)\n",
        "print(\"Desviación estándar:\", desviacion)\n",
        "print(\"Valor máximo:\", maximo)\n"
      ],
      "metadata": {
        "colab": {
          "base_uri": "https://localhost:8080/"
        },
        "id": "OsHahwKvixqD",
        "outputId": "decd868c-28c3-4e87-a903-b3331b554ea5"
      },
      "execution_count": 4,
      "outputs": [
        {
          "output_type": "stream",
          "name": "stdout",
          "text": [
            "Matriz aleatoria 5x5:\n",
            "[[0.74878203 0.03303954 0.2472439  0.62371081 0.42668567]\n",
            " [0.9493257  0.71827345 0.78745251 0.74636334 0.07387696]\n",
            " [0.01476413 0.24429798 0.94727152 0.2008441  0.77162267]\n",
            " [0.94764601 0.9966134  0.48483072 0.81726315 0.7704925 ]\n",
            " [0.76651764 0.70461258 0.11489138 0.71271887 0.60711371]]\n",
            "\n",
            "📊 Resultados:\n",
            "Media: 0.5782501709982824\n",
            "Desviación estándar: 0.3091297147694535\n",
            "Valor máximo: 0.9966134048285329\n"
          ]
        }
      ]
    },
    {
      "cell_type": "code",
      "source": [
        "import numpy as np\n",
        "\n",
        "# Generar matriz aleatoria de 5x5\n",
        "matriz = np.random.rand(5, 5)\n",
        "\n",
        "\n",
        "\n",
        "#5. Transforma la matriz en un vector de una sola dimensión\n",
        "vector = matriz.flatten()\n",
        "\n",
        "print(\"\\nVector en una sola dimensión:\")\n",
        "print(vector)\n",
        "print(\"Tamaño:\", vector.size)\n"
      ],
      "metadata": {
        "colab": {
          "base_uri": "https://localhost:8080/"
        },
        "id": "tuZZKZUzjVia",
        "outputId": "c2fe562a-f7c0-4257-ea91-4b2ed976e77c"
      },
      "execution_count": 37,
      "outputs": [
        {
          "output_type": "stream",
          "name": "stdout",
          "text": [
            "\n",
            "Vector en una sola dimensión:\n",
            "[0.22670299 0.73308234 0.65954712 0.64642755 0.99266571 0.80431935\n",
            " 0.1796099  0.2073639  0.84882758 0.01954611 0.5710274  0.12124905\n",
            " 0.17964864 0.99332355 0.11366107 0.0163514  0.01655406 0.9905564\n",
            " 0.3121632  0.17831377 0.99053577 0.3904667  0.39048864 0.99044677\n",
            " 0.74399758]\n",
            "Tamaño: 25\n"
          ]
        }
      ]
    },
    {
      "cell_type": "markdown",
      "source": [
        "PARTEEEE 2: Fundamentos Pandas\n",
        "\n",
        "1. Crea un DataFrame con los siguientes datos de estudiantes:"
      ],
      "metadata": {
        "id": "CIBxyoNO0F_I"
      }
    },
    {
      "cell_type": "code",
      "source": [
        "import pandas as pd\n",
        "\n",
        "# Datos de estudiantes\n",
        "datos = {\n",
        "    \"Nombre\": [\"Ana\", \"Luis\", \"María\", \"Pedro\", \"Sofía\"],\n",
        "    \"Edad\": [20, 21, 19, 22, 20],\n",
        "    \"Nota_Matemáticas\": [18, 15, 16, 12, 19],\n",
        "    \"Nota_IA\": [17, 14, 18, 13, 20]\n",
        "}\n",
        "\n",
        "# Crear DataFrame\n",
        "df = pd.DataFrame(datos)\n",
        "\n",
        "print(\" DataFrame de Estudiantes:\")\n",
        "print(df)\n",
        "\n",
        "print(\"\\n\")\n",
        "\n",
        "#2. Calcula el promedio de cada columna numérica.\n",
        "\n",
        "\n",
        "promedios = df.mean(numeric_only=True).to_frame(name=\"Promedio:\")\n",
        "print()\n",
        "print(promedios)\n",
        "\n",
        "#3. Filtra los estudiantes con nota de IA mayor a 15\n",
        "\n",
        "print(\"\\n\\n📋 Estudiantes con Nota_IA > 15:\")\n",
        "print()\n",
        "filtro = df[df[\"Nota_IA\"] > 15]\n",
        "print(filtro)\n",
        "\n",
        "\n",
        "#4. Agrega una nueva columna llamada Promedio que contenga el promedio de Nota_Matemáticas y Nota_IA.\n",
        "\n",
        "#Columna nueva con promedio ingresado\n",
        "df[\"Promedio\"] = (df[\"Nota_Matemáticas\"] + df[\"Nota_IA\"]) / 2\n",
        "print()\n",
        "print(\"\\n📋 DataFrame con columna Promedio:\")\n",
        "print()\n",
        "print(df)\n",
        "\n",
        "# 5. Ordena el DataFrame según la columna Promedio de mayor a menor.\n",
        "\n",
        "df_ordenado = df.sort_values(by=\"Promedio\", ascending=False)\n",
        "\n",
        "print(\"\\n\\n 📊 DataFrame ordenado por Promedio (de mayor a menor):\")\n",
        "print()\n",
        "print(df_ordenado)\n"
      ],
      "metadata": {
        "colab": {
          "base_uri": "https://localhost:8080/"
        },
        "id": "U5eICsqAkTpa",
        "outputId": "0d19c1c4-b5ec-460e-8c8e-60d73182ada3"
      },
      "execution_count": 38,
      "outputs": [
        {
          "output_type": "stream",
          "name": "stdout",
          "text": [
            " DataFrame de Estudiantes:\n",
            "  Nombre  Edad  Nota_Matemáticas  Nota_IA\n",
            "0    Ana    20                18       17\n",
            "1   Luis    21                15       14\n",
            "2  María    19                16       18\n",
            "3  Pedro    22                12       13\n",
            "4  Sofía    20                19       20\n",
            "\n",
            "\n",
            "\n",
            "                  Promedio:\n",
            "Edad                   20.4\n",
            "Nota_Matemáticas       16.0\n",
            "Nota_IA                16.4\n",
            "\n",
            "\n",
            "📋 Estudiantes con Nota_IA > 15:\n",
            "\n",
            "  Nombre  Edad  Nota_Matemáticas  Nota_IA\n",
            "0    Ana    20                18       17\n",
            "2  María    19                16       18\n",
            "4  Sofía    20                19       20\n",
            "\n",
            "\n",
            "📋 DataFrame con columna Promedio:\n",
            "\n",
            "  Nombre  Edad  Nota_Matemáticas  Nota_IA  Promedio\n",
            "0    Ana    20                18       17      17.5\n",
            "1   Luis    21                15       14      14.5\n",
            "2  María    19                16       18      17.0\n",
            "3  Pedro    22                12       13      12.5\n",
            "4  Sofía    20                19       20      19.5\n",
            "\n",
            "\n",
            " 📊 DataFrame ordenado por Promedio (de mayor a menor):\n",
            "\n",
            "  Nombre  Edad  Nota_Matemáticas  Nota_IA  Promedio\n",
            "4  Sofía    20                19       20      19.5\n",
            "0    Ana    20                18       17      17.5\n",
            "2  María    19                16       18      17.0\n",
            "1   Luis    21                15       14      14.5\n",
            "3  Pedro    22                12       13      12.5\n"
          ]
        }
      ]
    },
    {
      "cell_type": "markdown",
      "source": [
        "PARTE 3: Algoritmia aplicada\n",
        "\n",
        "\n",
        "1. Escribe una función en Python que reciba una lista de números y devuelva:\n",
        "\n",
        "\n",
        "o   El número mayor\n",
        "\n",
        "\n",
        "o   El número menor\n",
        "\n",
        "\n",
        "o   El promedio"
      ],
      "metadata": {
        "id": "korGR-T4n2nQ"
      }
    },
    {
      "cell_type": "code",
      "source": [
        "def analizar_lista(numeros):\n",
        "    mayor = max(numeros)\n",
        "    menor = min(numeros)\n",
        "    promedio = sum(numeros) / len(numeros)\n",
        "    return mayor, menor, promedio\n",
        "\n",
        "# Ejemplo de uso\n",
        "lista = [10, 5, 20, 7, 15]\n",
        "mayor, menor, promedio = analizar_lista(lista)\n",
        "\n",
        "print(\"Lista:\", lista)\n",
        "print(\"Mayor:\", mayor)\n",
        "print(\"Menor:\", menor)\n",
        "print(\"Promedio:\", promedio)\n",
        "\n"
      ],
      "metadata": {
        "colab": {
          "base_uri": "https://localhost:8080/"
        },
        "id": "crPIaecalXnb",
        "outputId": "fae9672e-0d36-4f07-c8d9-583fea294076"
      },
      "execution_count": 24,
      "outputs": [
        {
          "output_type": "stream",
          "name": "stdout",
          "text": [
            "Lista: [10, 5, 20, 7, 15]\n",
            "Mayor: 20\n",
            "Menor: 5\n",
            "Promedio: 11.4\n"
          ]
        }
      ]
    },
    {
      "cell_type": "markdown",
      "source": [
        "2. Usando NumPy, implementa una función de activación Sigmoide definida como:\n",
        "\n",
        "f(x)=11+e−xf(x) = \\frac{1}{1 + e^{-x}}f(x)=1+e−x1\n",
        "\n",
        "Aplica la función a un arreglo x = np.array([-2, -1, 0, 1, 2])."
      ],
      "metadata": {
        "id": "bIEHG_SyroX3"
      }
    },
    {
      "cell_type": "code",
      "source": [
        "import numpy as np\n",
        "\n",
        "# Definir función sigmoide\n",
        "def sigmoide(x):\n",
        "    return 1 / (1 + np.exp(-x))\n",
        "\n",
        "# Arreglo de prueba\n",
        "x = np.array([-2, -1, 0, 1, 2])\n",
        "resultado = sigmoide(x)\n",
        "\n",
        "print(\"x =\", x)\n",
        "print(\"Sigmoide(x) =\", resultado)\n"
      ],
      "metadata": {
        "colab": {
          "base_uri": "https://localhost:8080/"
        },
        "id": "j5r1iIVIn5ps",
        "outputId": "6b461d29-4a9e-47e2-f2ff-2908441f03c2"
      },
      "execution_count": 25,
      "outputs": [
        {
          "output_type": "stream",
          "name": "stdout",
          "text": [
            "x = [-2 -1  0  1  2]\n",
            "Sigmoide(x) = [0.11920292 0.26894142 0.5        0.73105858 0.88079708]\n"
          ]
        }
      ]
    },
    {
      "cell_type": "markdown",
      "source": [
        "3. Crea una función que clasifique a los estudiantes del DataFrame en \"Aprobado\"\n",
        "si su Promedio ≥ 14, y \"Desaprobado\" en caso contrario. Añade una nueva\n",
        "columna llamada Estado.\n"
      ],
      "metadata": {
        "id": "qscExl_l1WAM"
      }
    },
    {
      "cell_type": "code",
      "source": [
        "import pandas as pd\n",
        "\n",
        "#EJERCICIO que usamos el grafico de la  parte 1\n",
        "# DataFrame con promedios\n",
        "datos = {\n",
        "    \"Nombre\": [\"Ana\", \"Luis\", \"María\", \"Pedro\", \"Sofía\"],\n",
        "    \"Edad\": [20, 21, 19, 22, 20],\n",
        "    \"Nota_Matemáticas\": [18, 15, 16, 12, 19],\n",
        "    \"Nota_IA\": [17, 14, 18, 13, 20],\n",
        "    \"Promedio\": [17.5, 14.5, 17.0, 12.5, 19.5]\n",
        "}\n",
        "df = pd.DataFrame(datos)\n",
        "\n",
        "# Función para clasificar estudiantes\n",
        "def clasificar(promedio):\n",
        "    return \"Aprobado\" if promedio >= 14 else \"Desaprobado\"\n",
        "\n",
        "# Crear columna Estado\n",
        "df[\"Estado\"] = df[\"Promedio\"].apply(clasificar)\n",
        "\n",
        "print(\" DataFrame final con Estado:\")\n",
        "print(df)"
      ],
      "metadata": {
        "colab": {
          "base_uri": "https://localhost:8080/"
        },
        "id": "pMliZ5uhrtyV",
        "outputId": "d2ecbe37-39f2-4002-bc92-80f866f8b377"
      },
      "execution_count": 39,
      "outputs": [
        {
          "output_type": "stream",
          "name": "stdout",
          "text": [
            " DataFrame final con Estado:\n",
            "  Nombre  Edad  Nota_Matemáticas  Nota_IA  Promedio       Estado\n",
            "0    Ana    20                18       17      17.5     Aprobado\n",
            "1   Luis    21                15       14      14.5     Aprobado\n",
            "2  María    19                16       18      17.0     Aprobado\n",
            "3  Pedro    22                12       13      12.5  Desaprobado\n",
            "4  Sofía    20                19       20      19.5     Aprobado\n"
          ]
        }
      ]
    },
    {
      "cell_type": "markdown",
      "source": [
        "PARTE 4: Mini-proyecto"
      ],
      "metadata": {
        "id": "ZzghfZocsjs5"
      }
    },
    {
      "cell_type": "markdown",
      "source": [
        "Agrega una nueva columna llamada Crecimiento que calcule el porcentaje de\n",
        "crecimiento entre Ventas_2024 y Ventas_2025."
      ],
      "metadata": {
        "id": "xDj39DpQtI_r"
      }
    },
    {
      "cell_type": "code",
      "source": [
        "import pandas as pd\n",
        "\n",
        "# Datos\n",
        "datos = {\n",
        "    'Producto' : ['A', 'B', 'C', 'D', 'E'],\n",
        "    'Ventas_2024': [120, 340, 560, 230, 150],\n",
        "    'Ventas_2025': [200, 400, 600, 300, 180]\n",
        "}\n",
        "#mostra columna\n",
        "\n",
        "df = pd.DataFrame(datos)\n",
        "# 1. Agregar columna Crecimiento (%) redondeada a 2 decimales\n",
        "df[\"Crecimiento\"] = (((df[\"Ventas_2025\"] - df[\"Ventas_2024\"]) / df[\"Ventas_2024\"]) * 100).round(2)\n",
        "\n",
        "print(\"📊 DataFrame con Crecimiento (%):\\n\")\n",
        "print(df)\n",
        "\n",
        "\n",
        "# 2. Identificar producto con mayor crecimiento\n",
        "mayor_crecimiento = df.loc[df[\"Crecimiento\"].idxmax()]\n",
        "\n",
        "print(\"\\n\\n🔥 Producto con mayor crecimiento:\\n\")\n",
        "print(mayor_crecimiento.to_string(index=True))"
      ],
      "metadata": {
        "colab": {
          "base_uri": "https://localhost:8080/"
        },
        "id": "ZyYruA1ssjSv",
        "outputId": "6952ac0e-5fef-47b0-d62b-c8e6e2f85468"
      },
      "execution_count": 30,
      "outputs": [
        {
          "output_type": "stream",
          "name": "stdout",
          "text": [
            "📊 DataFrame con Crecimiento (%):\n",
            "\n",
            "  Producto  Ventas_2024  Ventas_2025  Crecimiento\n",
            "0        A          120          200        66.67\n",
            "1        B          340          400        17.65\n",
            "2        C          560          600         7.14\n",
            "3        D          230          300        30.43\n",
            "4        E          150          180        20.00\n",
            "\n",
            "\n",
            "🔥 Producto con mayor crecimiento:\n",
            "\n",
            "Producto           A\n",
            "Ventas_2024      120\n",
            "Ventas_2025      200\n",
            "Crecimiento    66.67\n"
          ]
        }
      ]
    },
    {
      "cell_type": "markdown",
      "source": [
        "PARTEEE 5: Resolución de ecuaciones\n",
        "\n",
        "\n",
        "\n",
        "1. Ecuación de primer grado\n",
        "\n",
        "-Implementa una función en Python que resuelva una ecuación de la forma:\n",
        "\n",
        "   ax+b=0ax + b = 0ax+b=0\n",
        "\n",
        "   por ejemplo: 2x + 4 = 0.\n",
        "\n",
        "-La función debe retornar el valor de x."
      ],
      "metadata": {
        "id": "6xD-J31KuXrL"
      }
    },
    {
      "cell_type": "code",
      "source": [
        "def resolver_ecuacion(a, b):\n",
        "    if a == 0:\n",
        "        if b == 0:\n",
        "            return \"La ecuación tiene infinitas soluciones.\"\n",
        "        else:\n",
        "            return \"La ecuación no tiene solución.\"\n",
        "    else:\n",
        "        x = -b / a\n",
        "        return x\n",
        "\n",
        "# Ejemplo: 2x + 4 = 0\n",
        "resultado = resolver_ecuacion(2, 4)\n",
        "print(\"El valor de x es:\", resultado)\n"
      ],
      "metadata": {
        "colab": {
          "base_uri": "https://localhost:8080/"
        },
        "id": "F0ccQTb7tWiq",
        "outputId": "22a4aac2-0ea8-43e8-d7fc-26bbc3ac890d"
      },
      "execution_count": 31,
      "outputs": [
        {
          "output_type": "stream",
          "name": "stdout",
          "text": [
            "El valor de x es: -2.0\n"
          ]
        }
      ]
    },
    {
      "cell_type": "markdown",
      "source": [
        "2. Ecuación de segundo grado\n",
        "\n",
        " Implementa una función en Python que resuelva una ecuación de la forma:\n",
        "\n",
        "ax2+bx+c=0ax^2 + bx + c = 0ax2+bx+c=0\n",
        "\n",
        "\n",
        "usando la fórmula general:\n",
        "\n",
        "x=−b±b2−4ac2ax = \\frac{-b \\pm \\sqrt{b^2 - 4ac}}{2a}x=2a−b±b2−4ac\n",
        "\n",
        "\n",
        " La función debe retornar las dos soluciones (reales o complejas)"
      ],
      "metadata": {
        "id": "LzI0RP1IxApN"
      }
    },
    {
      "cell_type": "code",
      "source": [
        "import cmath  # Para raíces cuadradas de numeros negativos\n",
        "\n",
        "def resolver_ecuacion_segundo_grado(a, b, c):\n",
        "    if a == 0:\n",
        "        return \"No es una ecuación de segundo grado (a = 0).\"\n",
        "\n",
        "    discriminante = b**2 - 4*a*c\n",
        "    raiz_discriminante = cmath.sqrt(discriminante)\n",
        "\n",
        "    x1 = (-b + raiz_discriminante) / (2*a)\n",
        "    x2 = (-b - raiz_discriminante) / (2*a)\n",
        "\n",
        "    return x1, x2\n",
        "\n",
        "# Ejemplo: x^2 - 5x + 6 = 0\n",
        "resultado = resolver_ecuacion_segundo_grado(1, -5, 6)\n",
        "print(\"Las soluciones son:\", resultado)\n"
      ],
      "metadata": {
        "colab": {
          "base_uri": "https://localhost:8080/"
        },
        "id": "SLQh39vExqhe",
        "outputId": "f7303887-d142-49b1-e0aa-895b57cc20c9"
      },
      "execution_count": 32,
      "outputs": [
        {
          "output_type": "stream",
          "name": "stdout",
          "text": [
            "Las soluciones son: ((3+0j), (2+0j))\n"
          ]
        }
      ]
    }
  ]
}